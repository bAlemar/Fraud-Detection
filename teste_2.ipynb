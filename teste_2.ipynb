{
 "cells": [
  {
   "cell_type": "code",
   "execution_count": 21,
   "metadata": {},
   "outputs": [],
   "source": [
    "from Class_modelo import *"
   ]
  },
  {
   "cell_type": "code",
   "execution_count": 22,
   "metadata": {},
   "outputs": [],
   "source": [
    "# Utilizando a classe\n",
    "teste = model_final()"
   ]
  },
  {
   "cell_type": "code",
   "execution_count": 23,
   "metadata": {},
   "outputs": [],
   "source": [
    "# Pré processamento de dados\n",
    "# Argumentos :\n",
    "            # Imbalanced_tec\n",
    "            # Selecao_feature = 'Metodo1','Metodo2', 'Metodo3'\n",
    "teste.preprocessing()"
   ]
  },
  {
   "cell_type": "code",
   "execution_count": 24,
   "metadata": {},
   "outputs": [],
   "source": [
    "# Treinamento do Modelo\n",
    "# Argumentos :\n",
    "            # modelo =  Passar modelo\n",
    "            # Nome_modelo_file, arquivo da pasta do modelo\n",
    "            # GridSearch: Dizer se modelo terá otimização de hiperparametros ou não.\n",
    "modelo = RandomForestClassifier(random_state=0,\n",
    "                                n_jobs=-1)\n",
    "teste.modelo(modelo= modelo,\n",
    "             GridSearch=False,\n",
    "             nome_modelo_file='RF_First')"
   ]
  },
  {
   "cell_type": "code",
   "execution_count": 25,
   "metadata": {},
   "outputs": [],
   "source": [
    "# Gerando relatorios do modelo\n",
    "teste.Relatorio_modelo()"
   ]
  },
  {
   "cell_type": "code",
   "execution_count": 26,
   "metadata": {},
   "outputs": [],
   "source": [
    "# Salvando modelo e releatórios\n",
    "teste.salvar_modelo()"
   ]
  }
 ],
 "metadata": {
  "kernelspec": {
   "display_name": "Python 3",
   "language": "python",
   "name": "python3"
  },
  "language_info": {
   "codemirror_mode": {
    "name": "ipython",
    "version": 3
   },
   "file_extension": ".py",
   "mimetype": "text/x-python",
   "name": "python",
   "nbconvert_exporter": "python",
   "pygments_lexer": "ipython3",
   "version": "3.10.12"
  }
 },
 "nbformat": 4,
 "nbformat_minor": 2
}
