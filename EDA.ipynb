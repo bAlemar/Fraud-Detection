{
 "cells": [
  {
   "cell_type": "markdown",
   "metadata": {},
   "source": [
    "## Bibliotecas"
   ]
  },
  {
   "cell_type": "code",
   "execution_count": 36,
   "metadata": {},
   "outputs": [],
   "source": [
    "import pandas as pd\n",
    "import plotly_express as px\n",
    "import numpy as np\n",
    "import seaborn as sns\n",
    "import matplotlib.pyplot as plt\n",
    "from scipy.stats import ttest_ind,mannwhitneyu"
   ]
  },
  {
   "cell_type": "markdown",
   "metadata": {},
   "source": [
    "## EDA"
   ]
  },
  {
   "cell_type": "code",
   "execution_count": 37,
   "metadata": {},
   "outputs": [],
   "source": [
    "data = pd.read_csv('./creditcard.csv')"
   ]
  },
  {
   "cell_type": "markdown",
   "metadata": {},
   "source": [
    "### Analisando frequência das classe"
   ]
  },
  {
   "cell_type": "code",
   "execution_count": null,
   "metadata": {},
   "outputs": [],
   "source": [
    "data['Class'].value_counts(100)\n",
    "# ~99,8% para não fraudes\n",
    "# ~0,2% para fraudes"
   ]
  },
  {
   "cell_type": "markdown",
   "metadata": {},
   "source": [
    "### Limpeza dos Dados/Verificação de Valores Nulos ou Duplicados"
   ]
  },
  {
   "cell_type": "code",
   "execution_count": null,
   "metadata": {},
   "outputs": [],
   "source": [
    "# Verificando se há valores nulos\n",
    "data.isna().sum()\n",
    "\n",
    "#Verificando se há valores duplicados\n",
    "# Cerca de 1081 linhas de dados duplicados\n",
    "data[data.duplicated()]\n",
    "\n",
    "\n",
    "# Cerca 19 dados fraudulentos estão duplicados...\n",
    "data[(data.duplicated())&(data['Class']==1)]\n",
    "# Iremos dropa-los a fim de evitar possível sobreajuste do modelo...\n",
    "data = data.drop_duplicates()\n",
    "\n",
    "#Verificando após o drop de linhas duplicadas como ficou a proporção da nossas Classes\n",
    "data['Class'].value_counts(100)\n",
    "# A proporção da classe de fraudes diminui cerca de quase 0,00005%"
   ]
  },
  {
   "cell_type": "markdown",
   "metadata": {},
   "source": [
    "### Analisando a estatística descritivas de todo Data set e Fraudes/Não Fraudes\n"
   ]
  },
  {
   "cell_type": "code",
   "execution_count": null,
   "metadata": {},
   "outputs": [],
   "source": [
    "df_fraud = data[data['Class']==1]\n",
    "df_not_fraud = data[data['Class']==0]\n",
    "\n",
    "display('All data',data.describe())\n",
    "display('Fraude',df_fraud.describe())\n",
    "display('Nao Fraude',df_not_fraud.describe())\n",
    "\n",
    "#OBSERVAÇÕES:\n",
    "#Médias e Medianas entre Fraudes e Não Fraudes se diferem em algumas variáveis\n",
    "#Alta presença de outliers\n",
    "#Algumas distribuições são assimétricas"
   ]
  },
  {
   "cell_type": "markdown",
   "metadata": {},
   "source": [
    "### Outliers"
   ]
  },
  {
   "cell_type": "code",
   "execution_count": null,
   "metadata": {},
   "outputs": [],
   "source": [
    "# Verificação de outliers com boxplot\n",
    "ncols = 3\n",
    "nrows = int(np.ceil(len(data.columns) / ncols))\n",
    "fig, axes = plt.subplots(nrows=nrows, ncols=ncols, figsize=(15,45))\n",
    "\n",
    "# Criando boxplots para cada coluna\n",
    "for i, column in enumerate(data.columns): #retirando Class\n",
    "    ax = axes.flatten()[i]  # Obtendo o eixo atual\n",
    "    sns.boxplot(x=\"Class\", y=column, data=data, ax=ax)  \n",
    "    ax.set_title(column)  # Adicionando título\n",
    "\n",
    "# Ajustando layout\n",
    "plt.tight_layout()\n",
    "plt.show()\n",
    "\n",
    "#OBSERVAÇÕES:\n",
    "# Pela plotagem do Gráfico vemos uma grande quantide de outliers que podem atrapalhar a generalização do modelo...\n",
    "# Iremos verificar se é possível dropar os outliers sem afetar significativamente os dados.\n"
   ]
  },
  {
   "cell_type": "code",
   "execution_count": null,
   "metadata": {},
   "outputs": [],
   "source": [
    "# Cálculo do Inter Quartile Range ( IQR )\n",
    "\n",
    "def Calculo_IQR(df,column):\n",
    "    #1 quartil\n",
    "    Q1 = np.percentile(df[column],25)\n",
    "    #3 quartil\n",
    "    Q3 = np.percentile(df[column],75)\n",
    "    #IQR\n",
    "    IQR = Q3 - Q1\n",
    "    #Outlier Gap\n",
    "    outlier_gap = 1.5 * IQR\n",
    "    #List of outliers\n",
    "    outlier_list_index = df[(df[column] < Q1 - outlier_gap) | (df[column] > Q3 + outlier_gap)].index\n",
    "    return outlier_list_index\n",
    "\n",
    "# Checking Outliers\n",
    "lista_outliers_index = []\n",
    "for column in data.columns[:-1]:\n",
    "    lista_outlier = Calculo_IQR(data,column) \n",
    "    lista_outliers_index.extend(lista_outlier)    \n",
    "    print(f'Ouliers na coluna {column} é de {len(lista_outlier)}')"
   ]
  },
  {
   "cell_type": "code",
   "execution_count": null,
   "metadata": {},
   "outputs": [],
   "source": [
    "#Retirando index duplicados ( é possível outlier de V2 tenha mesma index do V3 por exemplo )\n",
    "lista_outliers_index = list(set(lista_outliers_index))\n",
    "\n",
    "#Gerando DataSet de Outliers\n",
    "data_outlier = data.loc[lista_outliers_index,:]\n",
    "\n",
    "#Verificando Quantidade de Classes\n",
    "data_outlier['Class'].value_counts()\n",
    "\n",
    "#OBSERVAÇÕES:\n",
    "\n",
    "# Base de dados de Outlier tem cerca de 458/473 das classes fradulentas...\n",
    "# Devido a grande perda de dados, não iremos remover os outliers.\n",
    "# Uma alternativa é utilização de modelos/técnicas que consigam lidar bem com os outliers."
   ]
  },
  {
   "cell_type": "markdown",
   "metadata": {},
   "source": [
    "### Verificando Distribuições das variáveis"
   ]
  },
  {
   "cell_type": "code",
   "execution_count": null,
   "metadata": {},
   "outputs": [],
   "source": [
    "# Podemos ver quais variáveis independentes possuem distribuições diferentes dada a classe (Fraude ou Não Fraude)\n",
    "# Queremos sempre que haja distintas distribuições, dessa maneira é mais fácil do modelo captar os padrões\n",
    "\n",
    "colunas = data.columns[1:-2]\n",
    "ncols = 3\n",
    "nrows = int(np.ceil(len(colunas) / ncols))\n",
    "fig, axes = plt.subplots(nrows=nrows, ncols=ncols, figsize=(15,45))\n",
    "\n",
    "# Criando boxplots para cada coluna\n",
    "for i, column in enumerate(colunas): #retirando Class\n",
    "    ax = axes.flatten()[i]  # Obtendo o eixo atual\n",
    "    sns.histplot(data[data['Class'] == 1][column], kde=True, color='red', label='Fraude', stat='density', ax=ax)\n",
    "    sns.histplot(data[data['Class'] == 0][column], kde=True, color='blue', label='Não Fraude', stat='density', ax=ax)\n",
    "    ax.set_title(column)  # Adicionando título\n",
    "    ax.set(xlabel='')  # Removendo rótulo do eixo x\n",
    "# Removendo subplots extras\n",
    "for j in range(len(colunas), ncols * nrows):\n",
    "    fig.delaxes(axes.flatten()[j])\n",
    "\n",
    "# Ajustando layout\n",
    "plt.tight_layout()\n",
    "plt.show()\n",
    "\n",
    "#OBSERVAÇÕES:\n",
    "# Variáveis que parecem distribuição bem diferente: V3, V4, V7, V9, V10, V11, V12, V14, V16\n",
    "# Variáveis que parecem distribuição pouco diferente: V2, V1, V5, V6, V8, V17, V18, V19, V21\n",
    "# Variáveis que parecem distribuição nada diferente:   V13, V15, V20, V22, V23, V24, V25, V26, V27, V28"
   ]
  },
  {
   "cell_type": "code",
   "execution_count": null,
   "metadata": {},
   "outputs": [],
   "source": [
    "# Outra maneira de fazer verificação é utilizando T-Test e U-test\n",
    "\n",
    "#T-test\n",
    "\n",
    "\n",
    "# Nivel de significância\n",
    "alpha_1 = 0.05 #95%\n",
    "alpha_2 = 0.01 #99%\n",
    "\n",
    "# Colunas das variáveis PCA:\n",
    "pca_columns = [x for x in data.columns if 'V' in x]\n",
    "\n",
    "#Lista para DataFrame\n",
    "results = []\n",
    "\n",
    "for feature in pca_columns:\n",
    "    t_statistic, p_value = ttest_ind(df_fraud[feature], df_not_fraud[feature],equal_var=False)\n",
    "    rejeita_h0_alpha1 = p_value < alpha_1\n",
    "    rejeita_h0_alpha2 = p_value < alpha_2\n",
    "    results.append({\n",
    "        'Feature': feature,\n",
    "        'Test Statistic':t_statistic,\n",
    "        'P-value': p_value,\n",
    "        'Nivel de Significância_1': alpha_1,\n",
    "        'Rejeita H0_1': rejeita_h0_alpha1,\n",
    "        'Nivel de Significância_2': alpha_2,\n",
    "        'Rejeita H0_2': rejeita_h0_alpha2,\n",
    "    })\n",
    "results_df = pd.DataFrame(results)\n",
    "print('T-test')\n",
    "display(results_df)\n",
    "print('==========================//=======================//====================')\n",
    "#U-test\n",
    "#Ho não há diferenças significativas entre distribuições da amostra\n",
    "#h1 há diferenças significativas entre distribuições da amostra\n",
    "# Nivel de significância\n",
    "alpha_1 = 0.05 #95%\n",
    "alpha_2 = 0.01 #99%\n",
    "\n",
    "# Colunas das variáveis PCA:\n",
    "pca_columns = [x for x in data.columns if 'V' in x]\n",
    "\n",
    "#Lista para DataFrame\n",
    "results = []\n",
    "\n",
    "for feature in pca_columns:\n",
    "    t_statistic, p_value = mannwhitneyu(df_fraud[feature], df_not_fraud[feature])\n",
    "    rejeita_h0_alpha1 = p_value < alpha_1\n",
    "    rejeita_h0_alpha2 = p_value < alpha_2\n",
    "    results.append({\n",
    "        'Feature': feature,\n",
    "        'Test Mann-Whitney':t_statistic,\n",
    "        'P-value': round(p_value,4),\n",
    "        'Nivel de Significância_1': alpha_1,\n",
    "        'Rejeita H0_1': rejeita_h0_alpha1,\n",
    "        'Nivel de Significância_2': alpha_2,\n",
    "        'Rejeita H0_2': rejeita_h0_alpha2,\n",
    "    })\n",
    "results_df = pd.DataFrame(results)\n",
    "print('U-test')\n",
    "display(results_df)\n",
    "\n",
    "\n",
    "#OBSERVAÇÕES:\n",
    "# Nota-se que o T-Test indicou que as variáveis: V13, V15, V22, V23, V25, V26 possuem distribuições iguais \n",
    "# Nota-se que o U-Test indicou que as variáveis: V13, V15, V22 e V25\n",
    "# Sugere-se que retire essas variáveis uma vez que elas possivelmente não irão ajudar na predição do nosso modelo"
   ]
  },
  {
   "cell_type": "markdown",
   "metadata": {},
   "source": [
    "### Verificando as Correlações"
   ]
  },
  {
   "cell_type": "code",
   "execution_count": null,
   "metadata": {},
   "outputs": [],
   "source": [
    "# Nosso objetivo é captar e classificar corretamente as classes de fraudes.\n",
    "# Então será analisado como as features se correlacionam com nosso target.\n",
    "\n",
    "# Calcular a matriz de correlação\n",
    "correlation_matrix = data.corr()\n",
    "\n",
    "# Criar um mapa de calor\n",
    "plt.figure(figsize=(20, 20))\n",
    "sns.heatmap(correlation_matrix, cmap=\"coolwarm\", annot=True, fmt=\".2f\", linewidths=0.5)\n",
    "plt.title('Mapa de Calor de Correlação')\n",
    "plt.show()"
   ]
  },
  {
   "cell_type": "code",
   "execution_count": null,
   "metadata": {},
   "outputs": [],
   "source": [
    "\n",
    "# Eu não quero features que possuam nenhuma correlação com nossa variável Alvo.\n",
    "# No processo de feature selection analisando as distribuições a gente retirou as variáveis:\n",
    "# V13, V15, V22, V23, V25, V26\n",
    "# Nota-se que a correlação dessa variáveis com a Class são de respectivamente de:\n",
    "# V22       0.004887\n",
    "# V26       0.004265\n",
    "# V25       0.003202\n",
    "# V15      -0.003300\n",
    "# V13      -0.003897\n",
    "# V23      -0.006333\n",
    "# V24      -0.007210\n",
    "pd.set_option('display.max_rows',31)\n",
    "df_corr = correlation_matrix['Class'].sort_values(ascending=False)\n",
    "display(df_corr)\n",
    "# Diante disso, iremos de fato retirar essa variáveis do modelo e fazer testes para verificar se há diferença nos\n",
    "# resultados."
   ]
  },
  {
   "cell_type": "markdown",
   "metadata": {},
   "source": [
    "### Time e Amount"
   ]
  },
  {
   "cell_type": "markdown",
   "metadata": {},
   "source": [
    "#### Time"
   ]
  },
  {
   "cell_type": "code",
   "execution_count": null,
   "metadata": {},
   "outputs": [],
   "source": [
    "# Iremos explorar as únicas variáveis que é de fato conhecida no dataset: Tempo e Valor de Transação"
   ]
  },
  {
   "cell_type": "code",
   "execution_count": 85,
   "metadata": {},
   "outputs": [
    {
     "data": {
      "image/png": "[encoded data removed]",
      "text/plain": [
       "<Figure size 1000x600 with 1 Axes>"
      ]
     },
     "metadata": {},
     "output_type": "display_data"
    }
   ],
   "source": [
    "# Primeiro iremos plotar gráfico de dispersão da variável Time\n",
    "# \"Feature 'Time' contains the seconds elapsed between each transaction and the first transaction in the dataset.\"\n",
    "# Basicamente feature Time é diferença de tempos em segundos a partir da primeira transação.\n",
    "# Podemos então transformar essa feature em Horas/Dias e verificar se há algum padrão de horário para as\n",
    "# transações fraudulentas\n",
    "\n",
    "#Transformando em hora:\n",
    "data['Time_hr'] = data['Time']/3600\n",
    "#Nota-se que é uma base de dados de 2 dias transações (Ultimo dado tem 48hrs).\n",
    "# Iremos supor que as transações começaram a ser contabilizadas as Meia noite de t e foram até meia noite de t+2\n",
    "\n",
    "# Os dados que contém 24hrs+ horas serão diminuidos -24, assim teremos horário certo de cada transação.\n",
    "data['Time_hr'] = np.where(data['Time_hr'] > 24, data['Time_hr'] - 24, data['Time_hr'])\n",
    "\n",
    "# Agora podemos ver se há algum padrão de horário para transações fraudulentas\n",
    "teste = data[['Time_hr','Class']]\n",
    "teste = teste[teste['Class']==1]\n",
    "\n",
    "# Criar um gráfico de densidade (kde) usando Seaborn\n",
    "plt.figure(figsize=(10, 6))\n",
    "sns.histplot(data=teste, x='Time_hr', hue='Class', common_norm=False,kde=True,stat='density')\n",
    "\n",
    "# Adicionar rótulos e título\n",
    "plt.xlabel('Hora do Dia')\n",
    "plt.ylabel('Densidade')\n",
    "plt.title('Distribuição da Variável Class em Relação ao Tempo do Dia')\n",
    "\n",
    "# Exibir o gráfico\n",
    "plt.show()\n",
    "\n",
    "#Nota-se que não há um padrão significativo"
   ]
  },
  {
   "cell_type": "code",
   "execution_count": 61,
   "metadata": {},
   "outputs": [
    {
     "data": {
      "application/vnd.plotly.v1+json": {
       "config": {
        "plotlyServerURL": "https://plot.ly"
       },
       "data": [
        {
         "alignmentgroup": "True",
         "hovertemplate": "variable=Fraude<br>Período do Dia=%{x}<br>Proporção de Transações (%)=%{y}<extra></extra>",
         "legendgroup": "Fraude",
         "marker": {
          "color": "red",
          "pattern": {
           "shape": ""
          }
         },
         "name": "Fraude",
         "offsetgroup": "Fraude",
         "orientation": "v",
         "showlegend": true,
         "textposition": "auto",
         "type": "bar",
         "x": [
          "Dia",
          "Noite"
         ],
         "xaxis": "x",
         "y": [
          0.5609756097560976,
          0.43902439024390244
         ],
         "yaxis": "y"
        },
        {
         "alignmentgroup": "True",
         "hovertemplate": "variable=Não Fraude<br>Período do Dia=%{x}<br>Proporção de Transações (%)=%{y}<extra></extra>",
         "legendgroup": "Não Fraude",
         "marker": {
          "color": "green",
          "pattern": {
           "shape": ""
          }
         },
         "name": "Não Fraude",
         "offsetgroup": "Não Fraude",
         "orientation": "v",
         "showlegend": true,
         "textposition": "auto",
         "type": "bar",
         "x": [
          "Dia",
          "Noite"
         ],
         "xaxis": "x",
         "y": [
          0.6331357824947681,
          0.36686421750523185
         ],
         "yaxis": "y"
        }
       ],
       "layout": {
        "barmode": "group",
        "legend": {
         "title": {
          "text": "variable"
         },
         "tracegroupgap": 0
        },
        "template": {
         "data": {
          "bar": [
           {
            "error_x": {
             "color": "#2a3f5f"
            },
            "error_y": {
             "color": "#2a3f5f"
            },
            "marker": {
             "line": {
              "color": "#E5ECF6",
              "width": 0.5
             },
             "pattern": {
              "fillmode": "overlay",
              "size": 10,
              "solidity": 0.2
             }
            },
            "type": "bar"
           }
          ],
          "barpolar": [
           {
            "marker": {
             "line": {
              "color": "#E5ECF6",
              "width": 0.5
             },
             "pattern": {
              "fillmode": "overlay",
              "size": 10,
              "solidity": 0.2
             }
            },
            "type": "barpolar"
           }
          ],
          "carpet": [
           {
            "aaxis": {
             "endlinecolor": "#2a3f5f",
             "gridcolor": "white",
             "linecolor": "white",
             "minorgridcolor": "white",
             "startlinecolor": "#2a3f5f"
            },
            "baxis": {
             "endlinecolor": "#2a3f5f",
             "gridcolor": "white",
             "linecolor": "white",
             "minorgridcolor": "white",
             "startlinecolor": "#2a3f5f"
            },
            "type": "carpet"
           }
          ],
          "choropleth": [
           {
            "colorbar": {
             "outlinewidth": 0,
             "ticks": ""
            },
            "type": "choropleth"
           }
          ],
          "contour": [
           {
            "colorbar": {
             "outlinewidth": 0,
             "ticks": ""
            },
            "colorscale": [
             [
              0,
              "#0d0887"
             ],
             [
              0.1111111111111111,
              "#46039f"
             ],
             [
              0.2222222222222222,
              "#7201a8"
             ],
             [
              0.3333333333333333,
              "#9c179e"
             ],
             [
              0.4444444444444444,
              "#bd3786"
             ],
             [
              0.5555555555555556,
              "#d8576b"
             ],
             [
              0.6666666666666666,
              "#ed7953"
             ],
             [
              0.7777777777777778,
              "#fb9f3a"
             ],
             [
              0.8888888888888888,
              "#fdca26"
             ],
             [
              1,
              "#f0f921"
             ]
            ],
            "type": "contour"
           }
          ],
          "contourcarpet": [
           {
            "colorbar": {
             "outlinewidth": 0,
             "ticks": ""
            },
            "type": "contourcarpet"
           }
          ],
          "heatmap": [
           {
            "colorbar": {
             "outlinewidth": 0,
             "ticks": ""
            },
            "colorscale": [
             [
              0,
              "#0d0887"
             ],
             [
              0.1111111111111111,
              "#46039f"
             ],
             [
              0.2222222222222222,
              "#7201a8"
             ],
             [
              0.3333333333333333,
              "#9c179e"
             ],
             [
              0.4444444444444444,
              "#bd3786"
             ],
             [
              0.5555555555555556,
              "#d8576b"
             ],
             [
              0.6666666666666666,
              "#ed7953"
             ],
             [
              0.7777777777777778,
              "#fb9f3a"
             ],
             [
              0.8888888888888888,
              "#fdca26"
             ],
             [
              1,
              "#f0f921"
             ]
            ],
            "type": "heatmap"
           }
          ],
          "heatmapgl": [
           {
            "colorbar": {
             "outlinewidth": 0,
             "ticks": ""
            },
            "colorscale": [
             [
              0,
              "#0d0887"
             ],
             [
              0.1111111111111111,
              "#46039f"
             ],
             [
              0.2222222222222222,
              "#7201a8"
             ],
             [
              0.3333333333333333,
              "#9c179e"
             ],
             [
              0.4444444444444444,
              "#bd3786"
             ],
             [
              0.5555555555555556,
              "#d8576b"
             ],
             [
              0.6666666666666666,
              "#ed7953"
             ],
             [
              0.7777777777777778,
              "#fb9f3a"
             ],
             [
              0.8888888888888888,
              "#fdca26"
             ],
             [
              1,
              "#f0f921"
             ]
            ],
            "type": "heatmapgl"
           }
          ],
          "histogram": [
           {
            "marker": {
             "pattern": {
              "fillmode": "overlay",
              "size": 10,
              "solidity": 0.2
             }
            },
            "type": "histogram"
           }
          ],
          "histogram2d": [
           {
            "colorbar": {
             "outlinewidth": 0,
             "ticks": ""
            },
            "colorscale": [
             [
              0,
              "#0d0887"
             ],
             [
              0.1111111111111111,
              "#46039f"
             ],
             [
              0.2222222222222222,
              "#7201a8"
             ],
             [
              0.3333333333333333,
              "#9c179e"
             ],
             [
              0.4444444444444444,
              "#bd3786"
             ],
             [
              0.5555555555555556,
              "#d8576b"
             ],
             [
              0.6666666666666666,
              "#ed7953"
             ],
             [
              0.7777777777777778,
              "#fb9f3a"
             ],
             [
              0.8888888888888888,
              "#fdca26"
             ],
             [
              1,
              "#f0f921"
             ]
            ],
            "type": "histogram2d"
           }
          ],
          "histogram2dcontour": [
           {
            "colorbar": {
             "outlinewidth": 0,
             "ticks": ""
            },
            "colorscale": [
             [
              0,
              "#0d0887"
             ],
             [
              0.1111111111111111,
              "#46039f"
             ],
             [
              0.2222222222222222,
              "#7201a8"
             ],
             [
              0.3333333333333333,
              "#9c179e"
             ],
             [
              0.4444444444444444,
              "#bd3786"
             ],
             [
              0.5555555555555556,
              "#d8576b"
             ],
             [
              0.6666666666666666,
              "#ed7953"
             ],
             [
              0.7777777777777778,
              "#fb9f3a"
             ],
             [
              0.8888888888888888,
              "#fdca26"
             ],
             [
              1,
              "#f0f921"
             ]
            ],
            "type": "histogram2dcontour"
           }
          ],
          "mesh3d": [
           {
            "colorbar": {
             "outlinewidth": 0,
             "ticks": ""
            },
            "type": "mesh3d"
           }
          ],
          "parcoords": [
           {
            "line": {
             "colorbar": {
              "outlinewidth": 0,
              "ticks": ""
             }
            },
            "type": "parcoords"
           }
          ],
          "pie": [
           {
            "automargin": true,
            "type": "pie"
           }
          ],
          "scatter": [
           {
            "fillpattern": {
             "fillmode": "overlay",
             "size": 10,
             "solidity": 0.2
            },
            "type": "scatter"
           }
          ],
          "scatter3d": [
           {
            "line": {
             "colorbar": {
              "outlinewidth": 0,
              "ticks": ""
             }
            },
            "marker": {
             "colorbar": {
              "outlinewidth": 0,
              "ticks": ""
             }
            },
            "type": "scatter3d"
           }
          ],
          "scattercarpet": [
           {
            "marker": {
             "colorbar": {
              "outlinewidth": 0,
              "ticks": ""
             }
            },
            "type": "scattercarpet"
           }
          ],
          "scattergeo": [
           {
            "marker": {
             "colorbar": {
              "outlinewidth": 0,
              "ticks": ""
             }
            },
            "type": "scattergeo"
           }
          ],
          "scattergl": [
           {
            "marker": {
             "colorbar": {
              "outlinewidth": 0,
              "ticks": ""
             }
            },
            "type": "scattergl"
           }
          ],
          "scattermapbox": [
           {
            "marker": {
             "colorbar": {
              "outlinewidth": 0,
              "ticks": ""
             }
            },
            "type": "scattermapbox"
           }
          ],
          "scatterpolar": [
           {
            "marker": {
             "colorbar": {
              "outlinewidth": 0,
              "ticks": ""
             }
            },
            "type": "scatterpolar"
           }
          ],
          "scatterpolargl": [
           {
            "marker": {
             "colorbar": {
              "outlinewidth": 0,
              "ticks": ""
             }
            },
            "type": "scatterpolargl"
           }
          ],
          "scatterternary": [
           {
            "marker": {
             "colorbar": {
              "outlinewidth": 0,
              "ticks": ""
             }
            },
            "type": "scatterternary"
           }
          ],
          "surface": [
           {
            "colorbar": {
             "outlinewidth": 0,
             "ticks": ""
            },
            "colorscale": [
             [
              0,
              "#0d0887"
             ],
             [
              0.1111111111111111,
              "#46039f"
             ],
             [
              0.2222222222222222,
              "#7201a8"
             ],
             [
              0.3333333333333333,
              "#9c179e"
             ],
             [
              0.4444444444444444,
              "#bd3786"
             ],
             [
              0.5555555555555556,
              "#d8576b"
             ],
             [
              0.6666666666666666,
              "#ed7953"
             ],
             [
              0.7777777777777778,
              "#fb9f3a"
             ],
             [
              0.8888888888888888,
              "#fdca26"
             ],
             [
              1,
              "#f0f921"
             ]
            ],
            "type": "surface"
           }
          ],
          "table": [
           {
            "cells": {
             "fill": {
              "color": "#EBF0F8"
             },
             "line": {
              "color": "white"
             }
            },
            "header": {
             "fill": {
              "color": "#C8D4E3"
             },
             "line": {
              "color": "white"
             }
            },
            "type": "table"
           }
          ]
         },
         "layout": {
          "annotationdefaults": {
           "arrowcolor": "#2a3f5f",
           "arrowhead": 0,
           "arrowwidth": 1
          },
          "autotypenumbers": "strict",
          "coloraxis": {
           "colorbar": {
            "outlinewidth": 0,
            "ticks": ""
           }
          },
          "colorscale": {
           "diverging": [
            [
             0,
             "#8e0152"
            ],
            [
             0.1,
             "#c51b7d"
            ],
            [
             0.2,
             "#de77ae"
            ],
            [
             0.3,
             "#f1b6da"
            ],
            [
             0.4,
             "#fde0ef"
            ],
            [
             0.5,
             "#f7f7f7"
            ],
            [
             0.6,
             "#e6f5d0"
            ],
            [
             0.7,
             "#b8e186"
            ],
            [
             0.8,
             "#7fbc41"
            ],
            [
             0.9,
             "#4d9221"
            ],
            [
             1,
             "#276419"
            ]
           ],
           "sequential": [
            [
             0,
             "#0d0887"
            ],
            [
             0.1111111111111111,
             "#46039f"
            ],
            [
             0.2222222222222222,
             "#7201a8"
            ],
            [
             0.3333333333333333,
             "#9c179e"
            ],
            [
             0.4444444444444444,
             "#bd3786"
            ],
            [
             0.5555555555555556,
             "#d8576b"
            ],
            [
             0.6666666666666666,
             "#ed7953"
            ],
            [
             0.7777777777777778,
             "#fb9f3a"
            ],
            [
             0.8888888888888888,
             "#fdca26"
            ],
            [
             1,
             "#f0f921"
            ]
           ],
           "sequentialminus": [
            [
             0,
             "#0d0887"
            ],
            [
             0.1111111111111111,
             "#46039f"
            ],
            [
             0.2222222222222222,
             "#7201a8"
            ],
            [
             0.3333333333333333,
             "#9c179e"
            ],
            [
             0.4444444444444444,
             "#bd3786"
            ],
            [
             0.5555555555555556,
             "#d8576b"
            ],
            [
             0.6666666666666666,
             "#ed7953"
            ],
            [
             0.7777777777777778,
             "#fb9f3a"
            ],
            [
             0.8888888888888888,
             "#fdca26"
            ],
            [
             1,
             "#f0f921"
            ]
           ]
          },
          "colorway": [
           "#636efa",
           "#EF553B",
           "#00cc96",
           "#ab63fa",
           "#FFA15A",
           "#19d3f3",
           "#FF6692",
           "#B6E880",
           "#FF97FF",
           "#FECB52"
          ],
          "font": {
           "color": "#2a3f5f"
          },
          "geo": {
           "bgcolor": "white",
           "lakecolor": "white",
           "landcolor": "#E5ECF6",
           "showlakes": true,
           "showland": true,
           "subunitcolor": "white"
          },
          "hoverlabel": {
           "align": "left"
          },
          "hovermode": "closest",
          "mapbox": {
           "style": "light"
          },
          "paper_bgcolor": "white",
          "plot_bgcolor": "#E5ECF6",
          "polar": {
           "angularaxis": {
            "gridcolor": "white",
            "linecolor": "white",
            "ticks": ""
           },
           "bgcolor": "#E5ECF6",
           "radialaxis": {
            "gridcolor": "white",
            "linecolor": "white",
            "ticks": ""
           }
          },
          "scene": {
           "xaxis": {
            "backgroundcolor": "#E5ECF6",
            "gridcolor": "white",
            "gridwidth": 2,
            "linecolor": "white",
            "showbackground": true,
            "ticks": "",
            "zerolinecolor": "white"
           },
           "yaxis": {
            "backgroundcolor": "#E5ECF6",
            "gridcolor": "white",
            "gridwidth": 2,
            "linecolor": "white",
            "showbackground": true,
            "ticks": "",
            "zerolinecolor": "white"
           },
           "zaxis": {
            "backgroundcolor": "#E5ECF6",
            "gridcolor": "white",
            "gridwidth": 2,
            "linecolor": "white",
            "showbackground": true,
            "ticks": "",
            "zerolinecolor": "white"
           }
          },
          "shapedefaults": {
           "line": {
            "color": "#2a3f5f"
           }
          },
          "ternary": {
           "aaxis": {
            "gridcolor": "white",
            "linecolor": "white",
            "ticks": ""
           },
           "baxis": {
            "gridcolor": "white",
            "linecolor": "white",
            "ticks": ""
           },
           "bgcolor": "#E5ECF6",
           "caxis": {
            "gridcolor": "white",
            "linecolor": "white",
            "ticks": ""
           }
          },
          "title": {
           "x": 0.05
          },
          "xaxis": {
           "automargin": true,
           "gridcolor": "white",
           "linecolor": "white",
           "ticks": "",
           "title": {
            "standoff": 15
           },
           "zerolinecolor": "white",
           "zerolinewidth": 2
          },
          "yaxis": {
           "automargin": true,
           "gridcolor": "white",
           "linecolor": "white",
           "ticks": "",
           "title": {
            "standoff": 15
           },
           "zerolinecolor": "white",
           "zerolinewidth": 2
          }
         }
        },
        "title": {
         "text": "Proporção de Transações Fraudulentas e Não Fraudulentas por Período do Dia"
        },
        "xaxis": {
         "anchor": "y",
         "domain": [
          0,
          1
         ],
         "title": {
          "text": "Período do Dia"
         }
        },
        "yaxis": {
         "anchor": "x",
         "domain": [
          0,
          1
         ],
         "title": {
          "text": "Proporção de Transações (%)"
         }
        }
       }
      }
     },
     "metadata": {},
     "output_type": "display_data"
    }
   ],
   "source": [
    "# Verificando se há diferenças entre dia e noite\n",
    "\n",
    "# Criar uma nova coluna indicando se a transação ocorreu de dia (1) ou de noite (0)\n",
    "# Obs o limiar de fronteira de noite e dia é relativo.\n",
    "data['Dia'] = np.where((data['Time_hr'] >= 7) & (data['Time_hr'] <= 19), 1, 0)\n",
    "\n",
    "#Verificando se há diferença na proporção de fraudes ou não fraudes durante dia e noite.\n",
    "fraud_counts_day = data[data['Class']==1]['Dia'].value_counts(100)\n",
    "not_fraud_counts_day = data[data['Class']==0]['Dia'].value_counts(100)\n",
    "\n",
    "# Criar um DataFrame para facilitar a visualização\n",
    "fraud_data = pd.DataFrame({'Período do Dia': ['Dia', 'Noite'],\n",
    "                            'Fraude': fraud_counts_day.values,\n",
    "                            'Não Fraude': not_fraud_counts_day.values})\n",
    "\n",
    "# Plotar gráfico de barras empilhadas com Plotly Express\n",
    "fig = px.bar(fraud_data, x='Período do Dia', y=['Fraude', 'Não Fraude'],\n",
    "             labels={'value': 'Proporção de Transações (%)'},\n",
    "             title='Proporção de Transações Fraudulentas e Não Fraudulentas por Período do Dia',\n",
    "             color_discrete_map={'Fraude': 'red', 'Não Fraude': 'green'},\n",
    "             barmode='group')\n",
    "\n",
    "# Exibir o gráfico\n",
    "fig.show()\n"
   ]
  },
  {
   "cell_type": "markdown",
   "metadata": {},
   "source": [
    "#### Amount"
   ]
  },
  {
   "cell_type": "code",
   "execution_count": null,
   "metadata": {},
   "outputs": [],
   "source": [
    "# Primeira coisa é verificar se há diferença entre a classe fraudes e não fraudes\n",
    "print('Fraude')\n",
    "print(df_fraud['Amount'].describe())\n",
    "print('==========================//===========//=========================')\n",
    "print('Não Fraude')\n",
    "print(df_not_fraud['Amount'].describe())\n",
    "\n",
    "# Nota-se que não há uma diferença muito grande em número absolutos.\n",
    "# Percebe-se que os dados de fraudes são bem mais dispersos que o de não fraude.\n",
    "# Aleḿ disso Fraude não possuem transações maiores que 2,2k."
   ]
  },
  {
   "cell_type": "code",
   "execution_count": null,
   "metadata": {},
   "outputs": [],
   "source": [
    "# Criar um gráfico de densidade (kde) usando Seaborn\n",
    "plt.figure(figsize=(12, 8))\n",
    "\n",
    "# Adicionar a densidade para a classe fraudulenta\n",
    "sns.histplot(data=df_fraud, x='Amount', kde=True, color='red', label='Fraude', stat='density')\n",
    "\n",
    "# Adicionar rótulos e título\n",
    "plt.xlabel('Valor da Transação')\n",
    "plt.ylabel('Densidade')\n",
    "plt.title('Distribuição da Variável Amount em Relação à Classe')\n",
    "\n",
    "# Adicionar legenda\n",
    "plt.legend()\n",
    "\n",
    "# Exibir o gráfico\n",
    "plt.show()\n",
    "\n",
    "#Nota-se boa parte das transações fraudulentas ocorrem abaixo 500\n",
    "# 93%\n",
    "round(len(df_fraud[df_fraud['Amount'] <= 500])/len(df_fraud),2)\n",
    "\n"
   ]
  },
  {
   "cell_type": "markdown",
   "metadata": {},
   "source": [
    "## Fontes"
   ]
  },
  {
   "cell_type": "code",
   "execution_count": null,
   "metadata": {},
   "outputs": [],
   "source": [
    "### Fontes/Estudos Utilizadas:\n",
    "# https://www.kaggle.com/code/vaidyaprasad84/ps3-e4-eda-sampling-ft/notebook\n",
    "# https://www.kaggle.com/code/rpsuraj/outlier-detection-techniques-simplified\n",
    "# https://www.kaggle.com/code/marcinrutecki/how-to-create-a-meaningful-eda\n"
   ]
  }
 ],
 "metadata": {
  "kernelspec": {
   "display_name": "Python 3",
   "language": "python",
   "name": "python3"
  },
  "language_info": {
   "codemirror_mode": {
    "name": "ipython",
    "version": 3
   },
   "file_extension": ".py",
   "mimetype": "text/x-python",
   "name": "python",
   "nbconvert_exporter": "python",
   "pygments_lexer": "ipython3",
   "version": "3.10.12"
  }
 },
 "nbformat": 4,
 "nbformat_minor": 2
}
