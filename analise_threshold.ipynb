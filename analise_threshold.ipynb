{
 "cells": [
  {
   "cell_type": "code",
   "execution_count": 1,
   "metadata": {},
   "outputs": [],
   "source": [
    "import pandas as pd\n",
    "import numpy as np\n",
    "from sklearn.metrics import classification_report, confusion_matrix\n",
    "import plotly_express as px"
   ]
  },
  {
   "cell_type": "code",
   "execution_count": 2,
   "metadata": {},
   "outputs": [
    {
     "data": {
      "application/vnd.plotly.v1+json": {
       "config": {
        "plotlyServerURL": "https://plot.ly"
       },
       "data": [
        {
         "hovertemplate": "variable=Precision<br>Threshold=%{x}<br>Score=%{y}<extra></extra>",
         "legendgroup": "Precision",
         "line": {
          "color": "#636efa",
          "dash": "solid",
          "shape": "linear"
         },
         "marker": {
          "symbol": "circle"
         },
         "mode": "lines",
         "name": "Precision",
         "orientation": "v",
         "showlegend": true,
         "type": "scatter",
         "x": [
          0.05,
          0.06,
          0.07,
          0.08,
          0.09,
          0.11,
          0.12,
          0.13,
          0.14,
          0.17,
          0.19,
          0.22,
          0.23,
          0.24,
          0.27,
          0.28,
          0.29,
          0.3,
          0.33,
          0.37,
          0.39,
          0.4,
          0.41,
          0.49,
          0.5,
          0.53,
          0.56,
          0.61,
          0.62,
          0.63,
          0.74,
          0.75,
          0.77,
          0.78,
          0.79,
          0.8,
          0.81,
          0.84,
          0.86,
          0.87,
          0.89,
          0.91
         ],
         "xaxis": "x",
         "y": [
          0.515527950310559,
          0.5845070422535211,
          0.6507936507936508,
          0.6890756302521008,
          0.7192982456140351,
          0.7297297297297297,
          0.7431192660550459,
          0.7788461538461539,
          0.8181818181818182,
          0.8350515463917526,
          0.8526315789473684,
          0.8617021276595744,
          0.8709677419354839,
          0.8804347826086957,
          0.8901098901098901,
          0.9,
          0.9101123595505618,
          0.9204545454545454,
          0.9310344827586208,
          0.9411764705882352,
          0.9523809523809524,
          0.963855421686747,
          0.975609756097561,
          0.975,
          0.9871794871794872,
          0.987012987012987,
          0.986842105263158,
          0.9863013698630136,
          1,
          1,
          1,
          1,
          1,
          1,
          1,
          1,
          1,
          1,
          1,
          1,
          1,
          1
         ],
         "yaxis": "y"
        },
        {
         "hovertemplate": "variable=Recall<br>Threshold=%{x}<br>Score=%{y}<extra></extra>",
         "legendgroup": "Recall",
         "line": {
          "color": "#EF553B",
          "dash": "solid",
          "shape": "linear"
         },
         "marker": {
          "symbol": "circle"
         },
         "mode": "lines",
         "name": "Recall",
         "orientation": "v",
         "showlegend": true,
         "type": "scatter",
         "x": [
          0.05,
          0.06,
          0.07,
          0.08,
          0.09,
          0.11,
          0.12,
          0.13,
          0.14,
          0.17,
          0.19,
          0.22,
          0.23,
          0.24,
          0.27,
          0.28,
          0.29,
          0.3,
          0.33,
          0.37,
          0.39,
          0.4,
          0.41,
          0.49,
          0.5,
          0.53,
          0.56,
          0.61,
          0.62,
          0.63,
          0.74,
          0.75,
          0.77,
          0.78,
          0.79,
          0.8,
          0.81,
          0.84,
          0.86,
          0.87,
          0.89,
          0.91
         ],
         "xaxis": "x",
         "y": [
          0.8736842105263158,
          0.8736842105263158,
          0.8631578947368421,
          0.8631578947368421,
          0.8631578947368421,
          0.8526315789473684,
          0.8526315789473684,
          0.8526315789473684,
          0.8526315789473684,
          0.8526315789473684,
          0.8526315789473684,
          0.8526315789473684,
          0.8526315789473684,
          0.8526315789473684,
          0.8526315789473684,
          0.8526315789473684,
          0.8526315789473684,
          0.8526315789473684,
          0.8526315789473684,
          0.8421052631578947,
          0.8421052631578947,
          0.8421052631578947,
          0.8421052631578947,
          0.8210526315789474,
          0.8105263157894737,
          0.8,
          0.7894736842105263,
          0.7578947368421053,
          0.7578947368421053,
          0.7368421052631579,
          0.7052631578947368,
          0.6947368421052632,
          0.6842105263157895,
          0.6631578947368421,
          0.6421052631578947,
          0.631578947368421,
          0.6210526315789474,
          0.6105263157894737,
          0.6,
          0.5684210526315789,
          0.5263157894736842,
          0.5052631578947369
         ],
         "yaxis": "y"
        },
        {
         "hovertemplate": "variable=F1-score<br>Threshold=%{x}<br>Score=%{y}<extra></extra>",
         "legendgroup": "F1-score",
         "line": {
          "color": "#00cc96",
          "dash": "solid",
          "shape": "linear"
         },
         "marker": {
          "symbol": "circle"
         },
         "mode": "lines",
         "name": "F1-score",
         "orientation": "v",
         "showlegend": true,
         "type": "scatter",
         "x": [
          0.05,
          0.06,
          0.07,
          0.08,
          0.09,
          0.11,
          0.12,
          0.13,
          0.14,
          0.17,
          0.19,
          0.22,
          0.23,
          0.24,
          0.27,
          0.28,
          0.29,
          0.3,
          0.33,
          0.37,
          0.39,
          0.4,
          0.41,
          0.49,
          0.5,
          0.53,
          0.56,
          0.61,
          0.62,
          0.63,
          0.74,
          0.75,
          0.77,
          0.78,
          0.79,
          0.8,
          0.81,
          0.84,
          0.86,
          0.87,
          0.89,
          0.91
         ],
         "xaxis": "x",
         "y": [
          0.6484375,
          0.7004219409282701,
          0.7420814479638009,
          0.7663551401869159,
          0.784688995215311,
          0.7864077669902912,
          0.7941176470588235,
          0.814070351758794,
          0.8350515463917525,
          0.84375,
          0.8526315789473685,
          0.8571428571428572,
          0.8617021276595744,
          0.8663101604278075,
          0.8709677419354839,
          0.8756756756756757,
          0.8804347826086957,
          0.8852459016393441,
          0.8901098901098902,
          0.8888888888888888,
          0.8938547486033519,
          0.898876404494382,
          0.903954802259887,
          0.8914285714285713,
          0.8901734104046243,
          0.8837209302325582,
          0.8771929824561403,
          0.8571428571428571,
          0.8622754491017963,
          0.8484848484848484,
          0.8271604938271605,
          0.8198757763975156,
          0.8125000000000001,
          0.7974683544303798,
          0.782051282051282,
          0.7741935483870968,
          0.7662337662337663,
          0.7581699346405228,
          0.7499999999999999,
          0.7248322147651006,
          0.6896551724137931,
          0.6713286713286714
         ],
         "yaxis": "y"
        }
       ],
       "layout": {
        "legend": {
         "title": {
          "text": "variable"
         },
         "tracegroupgap": 0
        },
        "template": {
         "data": {
          "bar": [
           {
            "error_x": {
             "color": "#2a3f5f"
            },
            "error_y": {
             "color": "#2a3f5f"
            },
            "marker": {
             "line": {
              "color": "#E5ECF6",
              "width": 0.5
             },
             "pattern": {
              "fillmode": "overlay",
              "size": 10,
              "solidity": 0.2
             }
            },
            "type": "bar"
           }
          ],
          "barpolar": [
           {
            "marker": {
             "line": {
              "color": "#E5ECF6",
              "width": 0.5
             },
             "pattern": {
              "fillmode": "overlay",
              "size": 10,
              "solidity": 0.2
             }
            },
            "type": "barpolar"
           }
          ],
          "carpet": [
           {
            "aaxis": {
             "endlinecolor": "#2a3f5f",
             "gridcolor": "white",
             "linecolor": "white",
             "minorgridcolor": "white",
             "startlinecolor": "#2a3f5f"
            },
            "baxis": {
             "endlinecolor": "#2a3f5f",
             "gridcolor": "white",
             "linecolor": "white",
             "minorgridcolor": "white",
             "startlinecolor": "#2a3f5f"
            },
            "type": "carpet"
           }
          ],
          "choropleth": [
           {
            "colorbar": {
             "outlinewidth": 0,
             "ticks": ""
            },
            "type": "choropleth"
           }
          ],
          "contour": [
           {
            "colorbar": {
             "outlinewidth": 0,
             "ticks": ""
            },
            "colorscale": [
             [
              0,
              "#0d0887"
             ],
             [
              0.1111111111111111,
              "#46039f"
             ],
             [
              0.2222222222222222,
              "#7201a8"
             ],
             [
              0.3333333333333333,
              "#9c179e"
             ],
             [
              0.4444444444444444,
              "#bd3786"
             ],
             [
              0.5555555555555556,
              "#d8576b"
             ],
             [
              0.6666666666666666,
              "#ed7953"
             ],
             [
              0.7777777777777778,
              "#fb9f3a"
             ],
             [
              0.8888888888888888,
              "#fdca26"
             ],
             [
              1,
              "#f0f921"
             ]
            ],
            "type": "contour"
           }
          ],
          "contourcarpet": [
           {
            "colorbar": {
             "outlinewidth": 0,
             "ticks": ""
            },
            "type": "contourcarpet"
           }
          ],
          "heatmap": [
           {
            "colorbar": {
             "outlinewidth": 0,
             "ticks": ""
            },
            "colorscale": [
             [
              0,
              "#0d0887"
             ],
             [
              0.1111111111111111,
              "#46039f"
             ],
             [
              0.2222222222222222,
              "#7201a8"
             ],
             [
              0.3333333333333333,
              "#9c179e"
             ],
             [
              0.4444444444444444,
              "#bd3786"
             ],
             [
              0.5555555555555556,
              "#d8576b"
             ],
             [
              0.6666666666666666,
              "#ed7953"
             ],
             [
              0.7777777777777778,
              "#fb9f3a"
             ],
             [
              0.8888888888888888,
              "#fdca26"
             ],
             [
              1,
              "#f0f921"
             ]
            ],
            "type": "heatmap"
           }
          ],
          "heatmapgl": [
           {
            "colorbar": {
             "outlinewidth": 0,
             "ticks": ""
            },
            "colorscale": [
             [
              0,
              "#0d0887"
             ],
             [
              0.1111111111111111,
              "#46039f"
             ],
             [
              0.2222222222222222,
              "#7201a8"
             ],
             [
              0.3333333333333333,
              "#9c179e"
             ],
             [
              0.4444444444444444,
              "#bd3786"
             ],
             [
              0.5555555555555556,
              "#d8576b"
             ],
             [
              0.6666666666666666,
              "#ed7953"
             ],
             [
              0.7777777777777778,
              "#fb9f3a"
             ],
             [
              0.8888888888888888,
              "#fdca26"
             ],
             [
              1,
              "#f0f921"
             ]
            ],
            "type": "heatmapgl"
           }
          ],
          "histogram": [
           {
            "marker": {
             "pattern": {
              "fillmode": "overlay",
              "size": 10,
              "solidity": 0.2
             }
            },
            "type": "histogram"
           }
          ],
          "histogram2d": [
           {
            "colorbar": {
             "outlinewidth": 0,
             "ticks": ""
            },
            "colorscale": [
             [
              0,
              "#0d0887"
             ],
             [
              0.1111111111111111,
              "#46039f"
             ],
             [
              0.2222222222222222,
              "#7201a8"
             ],
             [
              0.3333333333333333,
              "#9c179e"
             ],
             [
              0.4444444444444444,
              "#bd3786"
             ],
             [
              0.5555555555555556,
              "#d8576b"
             ],
             [
              0.6666666666666666,
              "#ed7953"
             ],
             [
              0.7777777777777778,
              "#fb9f3a"
             ],
             [
              0.8888888888888888,
              "#fdca26"
             ],
             [
              1,
              "#f0f921"
             ]
            ],
            "type": "histogram2d"
           }
          ],
          "histogram2dcontour": [
           {
            "colorbar": {
             "outlinewidth": 0,
             "ticks": ""
            },
            "colorscale": [
             [
              0,
              "#0d0887"
             ],
             [
              0.1111111111111111,
              "#46039f"
             ],
             [
              0.2222222222222222,
              "#7201a8"
             ],
             [
              0.3333333333333333,
              "#9c179e"
             ],
             [
              0.4444444444444444,
              "#bd3786"
             ],
             [
              0.5555555555555556,
              "#d8576b"
             ],
             [
              0.6666666666666666,
              "#ed7953"
             ],
             [
              0.7777777777777778,
              "#fb9f3a"
             ],
             [
              0.8888888888888888,
              "#fdca26"
             ],
             [
              1,
              "#f0f921"
             ]
            ],
            "type": "histogram2dcontour"
           }
          ],
          "mesh3d": [
           {
            "colorbar": {
             "outlinewidth": 0,
             "ticks": ""
            },
            "type": "mesh3d"
           }
          ],
          "parcoords": [
           {
            "line": {
             "colorbar": {
              "outlinewidth": 0,
              "ticks": ""
             }
            },
            "type": "parcoords"
           }
          ],
          "pie": [
           {
            "automargin": true,
            "type": "pie"
           }
          ],
          "scatter": [
           {
            "fillpattern": {
             "fillmode": "overlay",
             "size": 10,
             "solidity": 0.2
            },
            "type": "scatter"
           }
          ],
          "scatter3d": [
           {
            "line": {
             "colorbar": {
              "outlinewidth": 0,
              "ticks": ""
             }
            },
            "marker": {
             "colorbar": {
              "outlinewidth": 0,
              "ticks": ""
             }
            },
            "type": "scatter3d"
           }
          ],
          "scattercarpet": [
           {
            "marker": {
             "colorbar": {
              "outlinewidth": 0,
              "ticks": ""
             }
            },
            "type": "scattercarpet"
           }
          ],
          "scattergeo": [
           {
            "marker": {
             "colorbar": {
              "outlinewidth": 0,
              "ticks": ""
             }
            },
            "type": "scattergeo"
           }
          ],
          "scattergl": [
           {
            "marker": {
             "colorbar": {
              "outlinewidth": 0,
              "ticks": ""
             }
            },
            "type": "scattergl"
           }
          ],
          "scattermapbox": [
           {
            "marker": {
             "colorbar": {
              "outlinewidth": 0,
              "ticks": ""
             }
            },
            "type": "scattermapbox"
           }
          ],
          "scatterpolar": [
           {
            "marker": {
             "colorbar": {
              "outlinewidth": 0,
              "ticks": ""
             }
            },
            "type": "scatterpolar"
           }
          ],
          "scatterpolargl": [
           {
            "marker": {
             "colorbar": {
              "outlinewidth": 0,
              "ticks": ""
             }
            },
            "type": "scatterpolargl"
           }
          ],
          "scatterternary": [
           {
            "marker": {
             "colorbar": {
              "outlinewidth": 0,
              "ticks": ""
             }
            },
            "type": "scatterternary"
           }
          ],
          "surface": [
           {
            "colorbar": {
             "outlinewidth": 0,
             "ticks": ""
            },
            "colorscale": [
             [
              0,
              "#0d0887"
             ],
             [
              0.1111111111111111,
              "#46039f"
             ],
             [
              0.2222222222222222,
              "#7201a8"
             ],
             [
              0.3333333333333333,
              "#9c179e"
             ],
             [
              0.4444444444444444,
              "#bd3786"
             ],
             [
              0.5555555555555556,
              "#d8576b"
             ],
             [
              0.6666666666666666,
              "#ed7953"
             ],
             [
              0.7777777777777778,
              "#fb9f3a"
             ],
             [
              0.8888888888888888,
              "#fdca26"
             ],
             [
              1,
              "#f0f921"
             ]
            ],
            "type": "surface"
           }
          ],
          "table": [
           {
            "cells": {
             "fill": {
              "color": "#EBF0F8"
             },
             "line": {
              "color": "white"
             }
            },
            "header": {
             "fill": {
              "color": "#C8D4E3"
             },
             "line": {
              "color": "white"
             }
            },
            "type": "table"
           }
          ]
         },
         "layout": {
          "annotationdefaults": {
           "arrowcolor": "#2a3f5f",
           "arrowhead": 0,
           "arrowwidth": 1
          },
          "autotypenumbers": "strict",
          "coloraxis": {
           "colorbar": {
            "outlinewidth": 0,
            "ticks": ""
           }
          },
          "colorscale": {
           "diverging": [
            [
             0,
             "#8e0152"
            ],
            [
             0.1,
             "#c51b7d"
            ],
            [
             0.2,
             "#de77ae"
            ],
            [
             0.3,
             "#f1b6da"
            ],
            [
             0.4,
             "#fde0ef"
            ],
            [
             0.5,
             "#f7f7f7"
            ],
            [
             0.6,
             "#e6f5d0"
            ],
            [
             0.7,
             "#b8e186"
            ],
            [
             0.8,
             "#7fbc41"
            ],
            [
             0.9,
             "#4d9221"
            ],
            [
             1,
             "#276419"
            ]
           ],
           "sequential": [
            [
             0,
             "#0d0887"
            ],
            [
             0.1111111111111111,
             "#46039f"
            ],
            [
             0.2222222222222222,
             "#7201a8"
            ],
            [
             0.3333333333333333,
             "#9c179e"
            ],
            [
             0.4444444444444444,
             "#bd3786"
            ],
            [
             0.5555555555555556,
             "#d8576b"
            ],
            [
             0.6666666666666666,
             "#ed7953"
            ],
            [
             0.7777777777777778,
             "#fb9f3a"
            ],
            [
             0.8888888888888888,
             "#fdca26"
            ],
            [
             1,
             "#f0f921"
            ]
           ],
           "sequentialminus": [
            [
             0,
             "#0d0887"
            ],
            [
             0.1111111111111111,
             "#46039f"
            ],
            [
             0.2222222222222222,
             "#7201a8"
            ],
            [
             0.3333333333333333,
             "#9c179e"
            ],
            [
             0.4444444444444444,
             "#bd3786"
            ],
            [
             0.5555555555555556,
             "#d8576b"
            ],
            [
             0.6666666666666666,
             "#ed7953"
            ],
            [
             0.7777777777777778,
             "#fb9f3a"
            ],
            [
             0.8888888888888888,
             "#fdca26"
            ],
            [
             1,
             "#f0f921"
            ]
           ]
          },
          "colorway": [
           "#636efa",
           "#EF553B",
           "#00cc96",
           "#ab63fa",
           "#FFA15A",
           "#19d3f3",
           "#FF6692",
           "#B6E880",
           "#FF97FF",
           "#FECB52"
          ],
          "font": {
           "color": "#2a3f5f"
          },
          "geo": {
           "bgcolor": "white",
           "lakecolor": "white",
           "landcolor": "#E5ECF6",
           "showlakes": true,
           "showland": true,
           "subunitcolor": "white"
          },
          "hoverlabel": {
           "align": "left"
          },
          "hovermode": "closest",
          "mapbox": {
           "style": "light"
          },
          "paper_bgcolor": "white",
          "plot_bgcolor": "#E5ECF6",
          "polar": {
           "angularaxis": {
            "gridcolor": "white",
            "linecolor": "white",
            "ticks": ""
           },
           "bgcolor": "#E5ECF6",
           "radialaxis": {
            "gridcolor": "white",
            "linecolor": "white",
            "ticks": ""
           }
          },
          "scene": {
           "xaxis": {
            "backgroundcolor": "#E5ECF6",
            "gridcolor": "white",
            "gridwidth": 2,
            "linecolor": "white",
            "showbackground": true,
            "ticks": "",
            "zerolinecolor": "white"
           },
           "yaxis": {
            "backgroundcolor": "#E5ECF6",
            "gridcolor": "white",
            "gridwidth": 2,
            "linecolor": "white",
            "showbackground": true,
            "ticks": "",
            "zerolinecolor": "white"
           },
           "zaxis": {
            "backgroundcolor": "#E5ECF6",
            "gridcolor": "white",
            "gridwidth": 2,
            "linecolor": "white",
            "showbackground": true,
            "ticks": "",
            "zerolinecolor": "white"
           }
          },
          "shapedefaults": {
           "line": {
            "color": "#2a3f5f"
           }
          },
          "ternary": {
           "aaxis": {
            "gridcolor": "white",
            "linecolor": "white",
            "ticks": ""
           },
           "baxis": {
            "gridcolor": "white",
            "linecolor": "white",
            "ticks": ""
           },
           "bgcolor": "#E5ECF6",
           "caxis": {
            "gridcolor": "white",
            "linecolor": "white",
            "ticks": ""
           }
          },
          "title": {
           "x": 0.05
          },
          "xaxis": {
           "automargin": true,
           "gridcolor": "white",
           "linecolor": "white",
           "ticks": "",
           "title": {
            "standoff": 15
           },
           "zerolinecolor": "white",
           "zerolinewidth": 2
          },
          "yaxis": {
           "automargin": true,
           "gridcolor": "white",
           "linecolor": "white",
           "ticks": "",
           "title": {
            "standoff": 15
           },
           "zerolinecolor": "white",
           "zerolinewidth": 2
          }
         }
        },
        "title": {
         "text": "Precision-Recall Curve"
        },
        "xaxis": {
         "anchor": "y",
         "domain": [
          0,
          1
         ],
         "title": {
          "text": "Threshold"
         }
        },
        "yaxis": {
         "anchor": "x",
         "domain": [
          0,
          1
         ],
         "title": {
          "text": "Score"
         }
        }
       }
      }
     },
     "metadata": {},
     "output_type": "display_data"
    }
   ],
   "source": [
    "# Gráfico mostrando Score x Threshold.\n",
    "df_threshold = pd.read_csv('./Modelos_Salvos/RF_First_M3/thresholds.csv')\n",
    "fig = px.line(df_threshold, x='Threshold', y=['Precision', 'Recall','F1-score'], \n",
    "              labels={'value': 'Score', 'Threshold': 'Threshold'},\n",
    "              title='Precision-Recall Curve',\n",
    "              line_shape='linear')\n",
    "fig.show()"
   ]
  },
  {
   "cell_type": "code",
   "execution_count": 3,
   "metadata": {},
   "outputs": [],
   "source": [
    "df_resultados = pd.read_csv('./Modelos_Salvos/RF_First_M3/resultados.csv')"
   ]
  },
  {
   "cell_type": "code",
   "execution_count": 4,
   "metadata": {},
   "outputs": [],
   "source": [
    "# Nota-se precisão depois de uma hora não muda muita, enqunato recall vai tendo perdas significativas.\n",
    "# Como nossos dados são muito desbalanceados uma pequena taxa de acurácia 10% já consegue captar +80% dos casos de fraude\n",
    "\n",
    "# Melhor F1-Score do modelo \n",
    "pos = df_threshold['F1-score'].idxmax()\n",
    "best_threshold = df_threshold.loc[pos]['Threshold']\n",
    "\n",
    "#Fazendo análise se valeu apena ou não\n",
    "y_pred_new = np.where(df_resultados['y_proba_1'] >= best_threshold, 1 ,0)"
   ]
  },
  {
   "cell_type": "code",
   "execution_count": 7,
   "metadata": {},
   "outputs": [
    {
     "name": "stdout",
     "output_type": "stream",
     "text": [
      "Com threshold de 41.0% temos:\n",
      "F1-Score de: 0.904\n",
      "Resultando em:\n",
      "80 de fraudes detectadas\n",
      "2 de clientes pertubados por falsa detecção\n",
      "15 de pilantras que calotaram o banco\n"
     ]
    }
   ],
   "source": [
    "report = classification_report(df_resultados['y_test'],y_pred_new)\n",
    "cm = confusion_matrix(df_resultados['y_test'],y_pred_new)\n",
    "TP = cm[1,1]\n",
    "FP = cm[0,1]\n",
    "FN = cm[1,0]\n",
    "\n",
    "print(f'Com threshold de {round(best_threshold * 100,3)}% temos:')\n",
    "print('F1-Score de:',round(df_threshold['F1-score'].max(),3))\n",
    "print('Resultando em:')\n",
    "print(f'{TP} de fraudes detectadas')\n",
    "print(f'{FP} de clientes pertubados por falsa detecção')\n",
    "print(f'{FN} de pilantras que calotaram o banco')"
   ]
  },
  {
   "cell_type": "code",
   "execution_count": 6,
   "metadata": {},
   "outputs": [
    {
     "data": {
      "text/plain": [
       "0.41"
      ]
     },
     "execution_count": 6,
     "metadata": {},
     "output_type": "execute_result"
    }
   ],
   "source": []
  },
  {
   "cell_type": "code",
   "execution_count": 88,
   "metadata": {},
   "outputs": [],
   "source": [
    "# Modelo M1\n",
    "# Com threshold de 50% temos:\n",
    "# F1-Score de: 0.897\n",
    "# Resultando em:\n",
    "# 78 de fraudes detectadas\n",
    "# 1 de clientes pertubados por falsa detecção\n",
    "# 17 de pilantras que calotaram o banco\n",
    "\n",
    "# Modelo M2\n",
    "# Com threshold de 33% temos:\n",
    "# F1-Score de: 0.895\n",
    "# Resultando em:\n",
    "# 81 de fraudes detectadas\n",
    "# 5 de clientes pertubados por falsa detecção\n",
    "# 14 de pilantras que calotaram o banco\n",
    "\n",
    "# Modelo M3\n",
    "# Com threshold de 41% temos:\n",
    "# F1-Score de: 0.904\n",
    "# Resultando em:\n",
    "# 80 de fraudes detectadas\n",
    "# 2 de clientes pertubados por falsa detecção\n",
    "# 15 de pilantras que calotaram o banco\n",
    "\n",
    "# Com threshold de 51% temos:\n",
    "# F1-Score de: 0.895\n",
    "# Resultando em:\n",
    "# 77 de fraudes detectadas\n",
    "# 0 de clientes pertubados por falsa detecção\n",
    "# 18 de pilantras que calotaram o banco\n"
   ]
  }
 ],
 "metadata": {
  "kernelspec": {
   "display_name": "Python 3",
   "language": "python",
   "name": "python3"
  },
  "language_info": {
   "codemirror_mode": {
    "name": "ipython",
    "version": 3
   },
   "file_extension": ".py",
   "mimetype": "text/x-python",
   "name": "python",
   "nbconvert_exporter": "python",
   "pygments_lexer": "ipython3",
   "version": "3.10.12"
  }
 },
 "nbformat": 4,
 "nbformat_minor": 2
}
